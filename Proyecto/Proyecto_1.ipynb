{
 "cells": [
  {
   "cell_type": "code",
   "execution_count": 1,
   "metadata": {},
   "outputs": [
    {
     "name": "stdout",
     "output_type": "stream",
     "text": [
      "Defaulting to user installation because normal site-packages is not writeable\n",
      "Collecting pandas\n",
      "  Downloading pandas-1.4.2-cp310-cp310-win_amd64.whl (10.6 MB)\n",
      "     ---------------------------------------- 10.6/10.6 MB 9.8 MB/s eta 0:00:00\n",
      "Requirement already satisfied: python-dateutil>=2.8.1 in c:\\users\\alcor\\appdata\\roaming\\python\\python310\\site-packages (from pandas) (2.8.2)\n",
      "Collecting pytz>=2020.1\n",
      "  Downloading pytz-2022.1-py2.py3-none-any.whl (503 kB)\n",
      "     ------------------------------------- 503.5/503.5 KB 10.5 MB/s eta 0:00:00\n",
      "Collecting numpy>=1.21.0\n",
      "  Downloading numpy-1.22.4-cp310-cp310-win_amd64.whl (14.7 MB)\n",
      "     --------------------------------------- 14.7/14.7 MB 10.4 MB/s eta 0:00:00\n",
      "Requirement already satisfied: six>=1.5 in c:\\users\\alcor\\appdata\\roaming\\python\\python310\\site-packages (from python-dateutil>=2.8.1->pandas) (1.16.0)\n",
      "Installing collected packages: pytz, numpy, pandas\n",
      "Successfully installed numpy-1.22.4 pandas-1.4.2 pytz-2022.1\n",
      "Note: you may need to restart the kernel to use updated packages.\n"
     ]
    },
    {
     "name": "stderr",
     "output_type": "stream",
     "text": [
      "  WARNING: The script f2py.exe is installed in 'C:\\Users\\alcor\\AppData\\Roaming\\Python\\Python310\\Scripts' which is not on PATH.\n",
      "  Consider adding this directory to PATH or, if you prefer to suppress this warning, use --no-warn-script-location.\n",
      "WARNING: You are using pip version 22.0.4; however, version 22.1.2 is available.\n",
      "You should consider upgrading via the 'c:\\Program Files\\Python310\\python.exe -m pip install --upgrade pip' command.\n"
     ]
    }
   ],
   "source": [
    "%pip install pandas"
   ]
  },
  {
   "cell_type": "code",
   "execution_count": 19,
   "metadata": {},
   "outputs": [],
   "source": [
    "import csv"
   ]
  },
  {
   "cell_type": "code",
   "execution_count": 2,
   "metadata": {},
   "outputs": [
    {
     "name": "stdout",
     "output_type": "stream",
     "text": [
      "Defaulting to user installation because normal site-packages is not writeable\n",
      "Requirement already satisfied: numpy in c:\\users\\alcor\\appdata\\roaming\\python\\python310\\site-packages (1.22.4)\n",
      "Note: you may need to restart the kernel to use updated packages.\n"
     ]
    },
    {
     "name": "stderr",
     "output_type": "stream",
     "text": [
      "WARNING: You are using pip version 22.0.4; however, version 22.1.2 is available.\n",
      "You should consider upgrading via the 'c:\\Program Files\\Python310\\python.exe -m pip install --upgrade pip' command.\n"
     ]
    }
   ],
   "source": [
    "%pip install numpy"
   ]
  },
  {
   "cell_type": "code",
   "execution_count": 3,
   "metadata": {},
   "outputs": [
    {
     "name": "stdout",
     "output_type": "stream",
     "text": [
      "Defaulting to user installation because normal site-packages is not writeable\n",
      "Collecting seaborn\n",
      "  Downloading seaborn-0.11.2-py3-none-any.whl (292 kB)\n",
      "     -------------------------------------- 292.8/292.8 KB 2.0 MB/s eta 0:00:00\n",
      "Requirement already satisfied: pandas>=0.23 in c:\\users\\alcor\\appdata\\roaming\\python\\python310\\site-packages (from seaborn) (1.4.2)\n",
      "Collecting matplotlib>=2.2\n",
      "  Downloading matplotlib-3.5.2-cp310-cp310-win_amd64.whl (7.2 MB)\n",
      "     ---------------------------------------- 7.2/7.2 MB 8.8 MB/s eta 0:00:00\n",
      "Requirement already satisfied: numpy>=1.15 in c:\\users\\alcor\\appdata\\roaming\\python\\python310\\site-packages (from seaborn) (1.22.4)\n",
      "Collecting scipy>=1.0\n",
      "  Downloading scipy-1.8.1-cp310-cp310-win_amd64.whl (36.9 MB)\n",
      "     ---------------------------------------- 36.9/36.9 MB 9.6 MB/s eta 0:00:00\n",
      "Collecting kiwisolver>=1.0.1\n",
      "  Downloading kiwisolver-1.4.3-cp310-cp310-win_amd64.whl (55 kB)\n",
      "     ---------------------------------------- 55.3/55.3 KB ? eta 0:00:00\n",
      "Collecting pillow>=6.2.0\n",
      "  Downloading Pillow-9.1.1-cp310-cp310-win_amd64.whl (3.3 MB)\n",
      "     ---------------------------------------- 3.3/3.3 MB 11.0 MB/s eta 0:00:00\n",
      "Requirement already satisfied: packaging>=20.0 in c:\\users\\alcor\\appdata\\roaming\\python\\python310\\site-packages (from matplotlib>=2.2->seaborn) (21.3)\n",
      "Collecting fonttools>=4.22.0\n",
      "  Downloading fonttools-4.33.3-py3-none-any.whl (930 kB)\n",
      "     -------------------------------------- 930.9/930.9 KB 5.4 MB/s eta 0:00:00\n",
      "Collecting cycler>=0.10\n",
      "  Downloading cycler-0.11.0-py3-none-any.whl (6.4 kB)\n",
      "Requirement already satisfied: pyparsing>=2.2.1 in c:\\users\\alcor\\appdata\\roaming\\python\\python310\\site-packages (from matplotlib>=2.2->seaborn) (3.0.9)\n",
      "Requirement already satisfied: python-dateutil>=2.7 in c:\\users\\alcor\\appdata\\roaming\\python\\python310\\site-packages (from matplotlib>=2.2->seaborn) (2.8.2)\n",
      "Requirement already satisfied: pytz>=2020.1 in c:\\users\\alcor\\appdata\\roaming\\python\\python310\\site-packages (from pandas>=0.23->seaborn) (2022.1)\n",
      "Requirement already satisfied: six>=1.5 in c:\\users\\alcor\\appdata\\roaming\\python\\python310\\site-packages (from python-dateutil>=2.7->matplotlib>=2.2->seaborn) (1.16.0)\n",
      "Installing collected packages: scipy, pillow, kiwisolver, fonttools, cycler, matplotlib, seaborn\n",
      "Successfully installed cycler-0.11.0 fonttools-4.33.3 kiwisolver-1.4.3 matplotlib-3.5.2 pillow-9.1.1 scipy-1.8.1 seaborn-0.11.2\n",
      "Note: you may need to restart the kernel to use updated packages.\n"
     ]
    },
    {
     "name": "stderr",
     "output_type": "stream",
     "text": [
      "  WARNING: The scripts fonttools.exe, pyftmerge.exe, pyftsubset.exe and ttx.exe are installed in 'C:\\Users\\alcor\\AppData\\Roaming\\Python\\Python310\\Scripts' which is not on PATH.\n",
      "  Consider adding this directory to PATH or, if you prefer to suppress this warning, use --no-warn-script-location.\n",
      "WARNING: You are using pip version 22.0.4; however, version 22.1.2 is available.\n",
      "You should consider upgrading via the 'c:\\Program Files\\Python310\\python.exe -m pip install --upgrade pip' command.\n"
     ]
    }
   ],
   "source": [
    "%pip install seaborn"
   ]
  },
  {
   "cell_type": "code",
   "execution_count": 5,
   "metadata": {},
   "outputs": [
    {
     "name": "stdout",
     "output_type": "stream",
     "text": [
      "Note: you may need to restart the kernel to use updated packages.Defaulting to user installation because normal site-packages is not writeable\n",
      "Collecting datetime\n",
      "  Downloading DateTime-4.4-py2.py3-none-any.whl (51 kB)\n",
      "     ---------------------------------------- 51.7/51.7 KB 1.3 MB/s eta 0:00:00\n",
      "Collecting zope.interface\n",
      "  Downloading zope.interface-5.4.0.tar.gz (249 kB)\n",
      "     -------------------------------------- 249.3/249.3 KB 3.9 MB/s eta 0:00:00\n",
      "  Preparing metadata (setup.py): started\n",
      "  Preparing metadata (setup.py): finished with status 'done'\n",
      "Requirement already satisfied: pytz in c:\\users\\alcor\\appdata\\roaming\\python\\python310\\site-packages (from datetime) (2022.1)\n",
      "Requirement already satisfied: setuptools in c:\\program files\\python310\\lib\\site-packages (from zope.interface->datetime) (58.1.0)\n",
      "Using legacy 'setup.py install' for zope.interface, since package 'wheel' is not installed.\n",
      "Installing collected packages: zope.interface, datetime\n",
      "  Running setup.py install for zope.interface: started\n",
      "  Running setup.py install for zope.interface: finished with status 'done'\n",
      "Successfully installed datetime-4.4 zope.interface-5.4.0\n",
      "\n"
     ]
    },
    {
     "name": "stderr",
     "output_type": "stream",
     "text": [
      "WARNING: You are using pip version 22.0.4; however, version 22.1.2 is available.\n",
      "You should consider upgrading via the 'c:\\Program Files\\Python310\\python.exe -m pip install --upgrade pip' command.\n"
     ]
    }
   ],
   "source": [
    "%pip install datetime"
   ]
  },
  {
   "cell_type": "markdown",
   "metadata": {},
   "source": [
    "## Cargando librerias"
   ]
  },
  {
   "cell_type": "code",
   "execution_count": 67,
   "metadata": {},
   "outputs": [],
   "source": [
    "import pandas as pd\n",
    "import numpy as np\n",
    "import seaborn as sns\n",
    "import csv\n",
    "\n",
    "from datetime import datetime"
   ]
  },
  {
   "cell_type": "markdown",
   "metadata": {},
   "source": [
    "## Cargando info"
   ]
  },
  {
   "cell_type": "code",
   "execution_count": 7,
   "metadata": {},
   "outputs": [],
   "source": [
    "dataset=\"Forbes Richest Atheletes (Forbes Richest Athletes 1990-2020) (3).csv\"\n",
    "df_dataset=pd.read_csv(dataset)"
   ]
  },
  {
   "cell_type": "code",
   "execution_count": 8,
   "metadata": {},
   "outputs": [
    {
     "data": {
      "text/plain": [
       "array([ 1,  2,  3,  4,  5,  6,  7,  8,  9, 10], dtype=int64)"
      ]
     },
     "execution_count": 8,
     "metadata": {},
     "output_type": "execute_result"
    }
   ],
   "source": [
    "# buscando unicos en rango actual\n",
    "df_dataset[\"Current Rank\"].unique()"
   ]
  },
  {
   "cell_type": "markdown",
   "metadata": {},
   "source": [
    "## Limpieza"
   ]
  },
  {
   "cell_type": "code",
   "execution_count": 10,
   "metadata": {},
   "outputs": [],
   "source": [
    "# copiamos el dataframe para no alterar el original\n",
    "df_dataset2=df_dataset.copy()"
   ]
  },
  {
   "cell_type": "code",
   "execution_count": 30,
   "metadata": {},
   "outputs": [],
   "source": [
    "#Pasamos a mayusculas para tener los datos iguales\n",
    "df_dataset2[\"Sport\"]=df_dataset[\"Sport\"].str.upper()\n",
    "df_dataset2[\"Name\"]=df_dataset[\"Name\"].str.upper()\n",
    "df_dataset2[\"Nationality\"]=df_dataset[\"Nationality\"].str.upper()"
   ]
  },
  {
   "cell_type": "markdown",
   "metadata": {},
   "source": [
    "## Limpiando los deportes"
   ]
  },
  {
   "cell_type": "code",
   "execution_count": 12,
   "metadata": {},
   "outputs": [
    {
     "data": {
      "text/plain": [
       "array(['BOXING', 'AUTO RACING', 'GOLF', 'BASKETBALL', 'TENNIS', 'NFL',\n",
       "       'NBA', 'BASEBALL', 'ICE HOCKEY', 'AMERICAN FOOTBALL / BASEBALL',\n",
       "       'F1 MOTORSPORTS', 'NASCAR', 'HOCKEY', 'AUTO RACING (NASCAR)',\n",
       "       'F1 RACING', 'AMERICAN FOOTBALL', 'SOCCER', 'CYCLING',\n",
       "       'MOTORCYCLE GP', 'MMA'], dtype=object)"
      ]
     },
     "execution_count": 12,
     "metadata": {},
     "output_type": "execute_result"
    }
   ],
   "source": [
    "#buscamos los unicos en Deportes\n",
    "df_dataset2[\"Sport\"].unique()"
   ]
  },
  {
   "cell_type": "code",
   "execution_count": 17,
   "metadata": {},
   "outputs": [],
   "source": [
    "# Arreglando los deportes\n",
    "df_dataset2[\"Sport\"]=df_dataset2[\"Sport\"].apply(lambda x: x.replace(\"NBA\",\"BASKETBALL\"))\n",
    "df_dataset2[\"Sport\"]=df_dataset2[\"Sport\"].apply(lambda x: x.replace(\"AUTO RACING (NASCAR)\", \"NASCAR\"))\n",
    "df_dataset2[\"Sport\"]=df_dataset2[\"Sport\"].apply(lambda x: x.replace(\"NFL\", \"AMERICAN FOOTBALL\"))\n",
    "df_dataset2[\"Sport\"]=df_dataset2[\"Sport\"].apply(lambda x: x.replace(\"ICE HOCKEY\", \"HOCKEY\"))\n",
    "df_dataset2[\"Sport\"]=df_dataset2[\"Sport\"].apply(lambda x: x.replace(\"AMERICAN FOOTBALL / BASEBALL\",\"AMERICAN FOOTBALL\"))\n",
    "df_dataset2[\"Sport\"]=df_dataset2[\"Sport\"].apply(lambda x: x.replace(\"AUTO RACING\",\"F1 RACING\"))\n",
    "df_dataset2[\"Sport\"]=df_dataset2[\"Sport\"].apply(lambda x: x.replace(\"F1 MOTORSPORTS\",\"F1 RACING\"))"
   ]
  },
  {
   "cell_type": "code",
   "execution_count": 18,
   "metadata": {},
   "outputs": [
    {
     "data": {
      "text/plain": [
       "array(['BOXING', 'F1 RACING', 'GOLF', 'BASKETBALL', 'TENNIS',\n",
       "       'AMERICAN FOOTBALL', 'BASEBALL', 'HOCKEY', 'NASCAR', 'SOCCER',\n",
       "       'CYCLING', 'MOTORCYCLE GP', 'MMA'], dtype=object)"
      ]
     },
     "execution_count": 18,
     "metadata": {},
     "output_type": "execute_result"
    }
   ],
   "source": [
    "df_dataset2[\"Sport\"].unique()"
   ]
  },
  {
   "cell_type": "code",
   "execution_count": 21,
   "metadata": {},
   "outputs": [
    {
     "name": "stdout",
     "output_type": "stream",
     "text": [
      "<class 'pandas.core.frame.DataFrame'>\n",
      "RangeIndex: 301 entries, 0 to 300\n",
      "Data columns (total 8 columns):\n",
      " #   Column                Non-Null Count  Dtype  \n",
      "---  ------                --------------  -----  \n",
      " 0   S.NO                  301 non-null    int64  \n",
      " 1   Name                  301 non-null    object \n",
      " 2   Nationality           301 non-null    object \n",
      " 3   Current Rank          301 non-null    int64  \n",
      " 4   Previous Year Rank    277 non-null    object \n",
      " 5   Sport                 301 non-null    object \n",
      " 6   Year                  301 non-null    int64  \n",
      " 7   earnings ($ million)  301 non-null    float64\n",
      "dtypes: float64(1), int64(3), object(4)\n",
      "memory usage: 18.9+ KB\n"
     ]
    }
   ],
   "source": [
    "#Limpiando Rango del año anterior\n",
    "df_dataset2.info()"
   ]
  },
  {
   "cell_type": "code",
   "execution_count": 22,
   "metadata": {},
   "outputs": [],
   "source": [
    "#Pasamos los NaN a 0\n",
    "df_dataset2[\"Previous Year Rank\"].fillna(120, inplace=True)"
   ]
  },
  {
   "cell_type": "code",
   "execution_count": 24,
   "metadata": {},
   "outputs": [
    {
     "name": "stderr",
     "output_type": "stream",
     "text": [
      "C:\\Users\\alcor\\AppData\\Local\\Temp\\ipykernel_12352\\2751465036.py:2: SettingWithCopyWarning: \n",
      "A value is trying to be set on a copy of a slice from a DataFrame\n",
      "\n",
      "See the caveats in the documentation: https://pandas.pydata.org/pandas-docs/stable/user_guide/indexing.html#returning-a-view-versus-a-copy\n",
      "  df_dataset2[\"Previous Year Rank\"][df_dataset2[\"Previous Year Rank\"]==\"not ranked\"]=120\n",
      "C:\\Users\\alcor\\AppData\\Local\\Temp\\ipykernel_12352\\2751465036.py:3: SettingWithCopyWarning: \n",
      "A value is trying to be set on a copy of a slice from a DataFrame\n",
      "\n",
      "See the caveats in the documentation: https://pandas.pydata.org/pandas-docs/stable/user_guide/indexing.html#returning-a-view-versus-a-copy\n",
      "  df_dataset2[\"Previous Year Rank\"][df_dataset2[\"Previous Year Rank\"]==\"??\"]=0\n",
      "C:\\Users\\alcor\\AppData\\Local\\Temp\\ipykernel_12352\\2751465036.py:4: SettingWithCopyWarning: \n",
      "A value is trying to be set on a copy of a slice from a DataFrame\n",
      "\n",
      "See the caveats in the documentation: https://pandas.pydata.org/pandas-docs/stable/user_guide/indexing.html#returning-a-view-versus-a-copy\n",
      "  df_dataset2[\"Previous Year Rank\"][df_dataset2[\"Previous Year Rank\"]==\"?\"]=0\n",
      "C:\\Users\\alcor\\AppData\\Local\\Temp\\ipykernel_12352\\2751465036.py:5: SettingWithCopyWarning: \n",
      "A value is trying to be set on a copy of a slice from a DataFrame\n",
      "\n",
      "See the caveats in the documentation: https://pandas.pydata.org/pandas-docs/stable/user_guide/indexing.html#returning-a-view-versus-a-copy\n",
      "  df_dataset2[\"Previous Year Rank\"][df_dataset2[\"Previous Year Rank\"]==\"none\"]=0\n",
      "C:\\Users\\alcor\\AppData\\Local\\Temp\\ipykernel_12352\\2751465036.py:6: SettingWithCopyWarning: \n",
      "A value is trying to be set on a copy of a slice from a DataFrame\n",
      "\n",
      "See the caveats in the documentation: https://pandas.pydata.org/pandas-docs/stable/user_guide/indexing.html#returning-a-view-versus-a-copy\n",
      "  df_dataset2[\"Previous Year Rank\"][df_dataset2[\"Previous Year Rank\"]==\">10\"]=11\n",
      "C:\\Users\\alcor\\AppData\\Local\\Temp\\ipykernel_12352\\2751465036.py:7: SettingWithCopyWarning: \n",
      "A value is trying to be set on a copy of a slice from a DataFrame\n",
      "\n",
      "See the caveats in the documentation: https://pandas.pydata.org/pandas-docs/stable/user_guide/indexing.html#returning-a-view-versus-a-copy\n",
      "  df_dataset2[\"Previous Year Rank\"][df_dataset2[\"Previous Year Rank\"]==\">14\"]=15\n",
      "C:\\Users\\alcor\\AppData\\Local\\Temp\\ipykernel_12352\\2751465036.py:8: SettingWithCopyWarning: \n",
      "A value is trying to be set on a copy of a slice from a DataFrame\n",
      "\n",
      "See the caveats in the documentation: https://pandas.pydata.org/pandas-docs/stable/user_guide/indexing.html#returning-a-view-versus-a-copy\n",
      "  df_dataset2[\"Previous Year Rank\"][df_dataset2[\"Previous Year Rank\"]==\">20\"]=21\n",
      "C:\\Users\\alcor\\AppData\\Local\\Temp\\ipykernel_12352\\2751465036.py:9: SettingWithCopyWarning: \n",
      "A value is trying to be set on a copy of a slice from a DataFrame\n",
      "\n",
      "See the caveats in the documentation: https://pandas.pydata.org/pandas-docs/stable/user_guide/indexing.html#returning-a-view-versus-a-copy\n",
      "  df_dataset2[\"Previous Year Rank\"][df_dataset2[\"Previous Year Rank\"]==\">30\"]=31\n",
      "C:\\Users\\alcor\\AppData\\Local\\Temp\\ipykernel_12352\\2751465036.py:10: SettingWithCopyWarning: \n",
      "A value is trying to be set on a copy of a slice from a DataFrame\n",
      "\n",
      "See the caveats in the documentation: https://pandas.pydata.org/pandas-docs/stable/user_guide/indexing.html#returning-a-view-versus-a-copy\n",
      "  df_dataset2[\"Previous Year Rank\"][df_dataset2[\"Previous Year Rank\"]==\">40\"]=41\n",
      "C:\\Users\\alcor\\AppData\\Local\\Temp\\ipykernel_12352\\2751465036.py:11: SettingWithCopyWarning: \n",
      "A value is trying to be set on a copy of a slice from a DataFrame\n",
      "\n",
      "See the caveats in the documentation: https://pandas.pydata.org/pandas-docs/stable/user_guide/indexing.html#returning-a-view-versus-a-copy\n",
      "  df_dataset2[\"Previous Year Rank\"][df_dataset2[\"Previous Year Rank\"]==\">100\"]=101\n"
     ]
    }
   ],
   "source": [
    "#Limpiamos valores no númericos cambiandolo por un cero\n",
    "df_dataset2[\"Previous Year Rank\"][df_dataset2[\"Previous Year Rank\"]==\"not ranked\"]=120\n",
    "df_dataset2[\"Previous Year Rank\"][df_dataset2[\"Previous Year Rank\"]==\"??\"]=0\n",
    "df_dataset2[\"Previous Year Rank\"][df_dataset2[\"Previous Year Rank\"]==\"?\"]=0\n",
    "df_dataset2[\"Previous Year Rank\"][df_dataset2[\"Previous Year Rank\"]==\"none\"]=0\n",
    "df_dataset2[\"Previous Year Rank\"][df_dataset2[\"Previous Year Rank\"]==\">10\"]=11\n",
    "df_dataset2[\"Previous Year Rank\"][df_dataset2[\"Previous Year Rank\"]==\">14\"]=15\n",
    "df_dataset2[\"Previous Year Rank\"][df_dataset2[\"Previous Year Rank\"]==\">20\"]=21\n",
    "df_dataset2[\"Previous Year Rank\"][df_dataset2[\"Previous Year Rank\"]==\">30\"]=31\n",
    "df_dataset2[\"Previous Year Rank\"][df_dataset2[\"Previous Year Rank\"]==\">40\"]=41\n",
    "df_dataset2[\"Previous Year Rank\"][df_dataset2[\"Previous Year Rank\"]==\">100\"]=101"
   ]
  },
  {
   "cell_type": "code",
   "execution_count": 25,
   "metadata": {},
   "outputs": [
    {
     "data": {
      "text/plain": [
       "array([120, '8', '1', 31, '4', '5', '12', '6', '3', '9', '17', '13', '10',\n",
       "       41, '19', '40', '7', '11', '30', '22', '20', '38', '2', '15', '14',\n",
       "       '26', 0, '18', 11, 21, '24', '21', 15, 101], dtype=object)"
      ]
     },
     "execution_count": 25,
     "metadata": {},
     "output_type": "execute_result"
    }
   ],
   "source": [
    "df_dataset2[\"Previous Year Rank\"].unique()"
   ]
  },
  {
   "cell_type": "code",
   "execution_count": 26,
   "metadata": {},
   "outputs": [
    {
     "name": "stdout",
     "output_type": "stream",
     "text": [
      "<class 'pandas.core.frame.DataFrame'>\n",
      "RangeIndex: 301 entries, 0 to 300\n",
      "Data columns (total 8 columns):\n",
      " #   Column                Non-Null Count  Dtype  \n",
      "---  ------                --------------  -----  \n",
      " 0   S.NO                  301 non-null    int64  \n",
      " 1   Name                  301 non-null    object \n",
      " 2   Nationality           301 non-null    object \n",
      " 3   Current Rank          301 non-null    int64  \n",
      " 4   Previous Year Rank    277 non-null    object \n",
      " 5   Sport                 301 non-null    object \n",
      " 6   Year                  301 non-null    int64  \n",
      " 7   earnings ($ million)  301 non-null    float64\n",
      "dtypes: float64(1), int64(3), object(4)\n",
      "memory usage: 18.9+ KB\n"
     ]
    }
   ],
   "source": [
    "#Limpiando S.NO - borramos las celdas sin valor\n",
    "df_dataset2.drop(columns=[\"S.NO\"], inplace=True)\n",
    "df_dataset.info()"
   ]
  },
  {
   "cell_type": "code",
   "execution_count": 27,
   "metadata": {},
   "outputs": [],
   "source": [
    "# Agregamos una columna de tipo datetime\n",
    "df_dataset2['year_dt'] = pd.to_datetime(df_dataset2['Year'],format='%Y')\n",
    "#Cambiamos el formato\n",
    "df_dataset2[\"year_dt\"]=pd.DatetimeIndex(df_dataset2[\"year_dt\"]).year\n"
   ]
  },
  {
   "cell_type": "code",
   "execution_count": 28,
   "metadata": {},
   "outputs": [
    {
     "data": {
      "text/plain": [
       "array([1990, 1991, 1992, 1993, 1994, 1995, 1996, 1997, 1998, 1999, 2000,\n",
       "       2002, 2003, 2004, 2005, 2006, 2007, 2008, 2009, 2010, 2011, 2012,\n",
       "       2013, 2014, 2015, 2016, 2017, 2018, 2019, 2020], dtype=int64)"
      ]
     },
     "execution_count": 28,
     "metadata": {},
     "output_type": "execute_result"
    }
   ],
   "source": [
    "#Veamos los valores de la columna de fecha\n",
    "df_dataset2[\"year_dt\"].unique()"
   ]
  },
  {
   "cell_type": "code",
   "execution_count": 36,
   "metadata": {},
   "outputs": [],
   "source": [
    "df_dataset2[\"Name\"]=df_dataset[\"Name\"].str.upper()"
   ]
  },
  {
   "cell_type": "code",
   "execution_count": 34,
   "metadata": {},
   "outputs": [
    {
     "data": {
      "text/plain": [
       "array(['Aaron Rodgers', 'Aaron Rogers', 'Alain Prost', 'Alex Rodriguez',\n",
       "       'Andre Agassi', 'Andrew Luck', 'Arnold Palmer', 'Ayrton Senna',\n",
       "       'Buster Douglas', 'Cam Newton', 'Canelo Alvarez', 'Carson Wentz',\n",
       "       'Cecil Fielder', 'Conor McGregor', 'Cristiano Ronaldo',\n",
       "       'Dale Earnhardt', 'Dale Earnhardt Jr.', 'David Beckham',\n",
       "       'Deion Sanders', 'Dennis Rodman', 'Donovan \"Razor\" Ruddock',\n",
       "       'Drew Brees', 'Eli Manning', 'Emmit Smith', 'Evander Holyfield',\n",
       "       'Floyd Mayweather', 'Gary Sheffield', 'George Foreman',\n",
       "       'Gerhard Berger', 'Grant Hill', 'Greg Norman', 'Jack Nicklaus',\n",
       "       'Jacques Villeneuve', 'James Harden', 'Jeff Gordon', 'Jim Courier',\n",
       "       'Joe Montana', 'Joe Sakic', 'Jordan Spieth', 'Kevin Durant',\n",
       "       'Kevin Garnett', 'Kimi Raikkonen', 'Kirk Cousins', 'Kobe Bryant',\n",
       "       'Lance Armstrong', 'LeBron James', 'Lennox Lewis',\n",
       "       'Lewis Hamilton', 'Lionel Messi', 'Manny Pacquiao', 'Matt Ryan',\n",
       "       'Matthew Stafford', 'Michael Jordan', 'Michael Moorer',\n",
       "       'Michael Schumacher', 'Michael Vick', 'Mike Tyson', 'Monica Seles',\n",
       "       'Muhammad Ali', 'Neymar', 'Nigel Mansell', 'Novak Djokovic',\n",
       "       'Oscar De La Hoya', 'Patrick Ewing', 'Peyton Manning',\n",
       "       'Phil Mickelson', 'Rafael Nadal', 'Riddick Bowe', 'Roger Federer',\n",
       "       'Ronaldinho', 'Rory McIlroy', 'Russell Wilson', 'Sergei Federov',\n",
       "       \"Shaq O'Neal\", \"Shaquille O'Neal\", 'Stephen Curry',\n",
       "       'Sugar Ray Leonard', 'Terrell Suggs', 'Tiger Woods', 'Tom Brady',\n",
       "       'Valentino Rossi', 'Wayne Gretzky'], dtype=object)"
      ]
     },
     "execution_count": 34,
     "metadata": {},
     "output_type": "execute_result"
    }
   ],
   "source": [
    "#Limpiamos la columna Nombre\n",
    "\n",
    "df_dataset[\"Name\"].sort_values(ascending=True).unique()"
   ]
  },
  {
   "cell_type": "code",
   "execution_count": 39,
   "metadata": {},
   "outputs": [],
   "source": [
    "df_dataset2[\"Name\"]=df_dataset2[\"Name\"].apply(lambda x: x.replace(\"AARON ROGERS\",\"AARON RODGERS\"))"
   ]
  },
  {
   "cell_type": "code",
   "execution_count": 42,
   "metadata": {},
   "outputs": [
    {
     "data": {
      "text/plain": [
       "array(['AARON RODGERS', 'ALAIN PROST', 'ALEX RODRIGUEZ', 'ANDRE AGASSI',\n",
       "       'ANDREW LUCK', 'ARNOLD PALMER', 'AYRTON SENNA', 'BUSTER DOUGLAS',\n",
       "       'CAM NEWTON', 'CANELO ALVAREZ', 'CARSON WENTZ', 'CECIL FIELDER',\n",
       "       'CONOR MCGREGOR', 'CRISTIANO RONALDO', 'DALE EARNHARDT',\n",
       "       'DALE EARNHARDT JR.', 'DAVID BECKHAM', 'DEION SANDERS',\n",
       "       'DENNIS RODMAN', 'DONOVAN \"RAZOR\" RUDDOCK', 'DREW BREES',\n",
       "       'ELI MANNING', 'EMMIT SMITH', 'EVANDER HOLYFIELD',\n",
       "       'FLOYD MAYWEATHER', 'GARY SHEFFIELD', 'GEORGE FOREMAN',\n",
       "       'GERHARD BERGER', 'GRANT HILL', 'GREG NORMAN', 'JACK NICKLAUS',\n",
       "       'JACQUES VILLENEUVE', 'JAMES HARDEN', 'JEFF GORDON', 'JIM COURIER',\n",
       "       'JOE MONTANA', 'JOE SAKIC', 'JORDAN SPIETH', 'KEVIN DURANT',\n",
       "       'KEVIN GARNETT', 'KIMI RAIKKONEN', 'KIRK COUSINS', 'KOBE BRYANT',\n",
       "       'LANCE ARMSTRONG', 'LEBRON JAMES', 'LENNOX LEWIS',\n",
       "       'LEWIS HAMILTON', 'LIONEL MESSI', 'MANNY PACQUIAO', 'MATT RYAN',\n",
       "       'MATTHEW STAFFORD', 'MICHAEL JORDAN', 'MICHAEL MOORER',\n",
       "       'MICHAEL SCHUMACHER', 'MICHAEL VICK', 'MIKE TYSON', 'MONICA SELES',\n",
       "       'MUHAMMAD ALI', 'NEYMAR', 'NIGEL MANSELL', 'NOVAK DJOKOVIC',\n",
       "       'OSCAR DE LA HOYA', 'PATRICK EWING', 'PEYTON MANNING',\n",
       "       'PHIL MICKELSON', 'RAFAEL NADAL', 'RIDDICK BOWE', 'ROGER FEDERER',\n",
       "       'RONALDINHO', 'RORY MCILROY', 'RUSSELL WILSON', 'SERGEI FEDEROV',\n",
       "       \"SHAQ O'NEAL\", \"SHAQUILLE O'NEAL\", 'STEPHEN CURRY',\n",
       "       'SUGAR RAY LEONARD', 'TERRELL SUGGS', 'TIGER WOODS', 'TOM BRADY',\n",
       "       'VALENTINO ROSSI', 'WAYNE GRETZKY'], dtype=object)"
      ]
     },
     "execution_count": 42,
     "metadata": {},
     "output_type": "execute_result"
    }
   ],
   "source": [
    "df_dataset2[\"Name\"].sort_values(ascending=True).unique()"
   ]
  },
  {
   "cell_type": "code",
   "execution_count": 44,
   "metadata": {},
   "outputs": [
    {
     "data": {
      "text/plain": [
       "array(['ARGENTINA', 'AUSTRALIA', 'AUSTRIA', 'BRAZIL', 'CANADA',\n",
       "       'DOMINICAN', 'FILIPINO', 'FINLAND', 'FRANCE', 'GERMANY', 'IRELAND',\n",
       "       'ITALY', 'MEXICO', 'NORTHERN IRELAND', 'PHILIPPINES', 'PORTUGAL',\n",
       "       'RUSSIA', 'SERBIA', 'SPAIN', 'SWITZERLAND', 'UK', 'USA'],\n",
       "      dtype=object)"
      ]
     },
     "execution_count": 44,
     "metadata": {},
     "output_type": "execute_result"
    }
   ],
   "source": [
    "#Arreglamos la columna de nacionalidad\n",
    "df_dataset2[\"Nationality\"].sort_values(ascending=True).unique()"
   ]
  },
  {
   "cell_type": "code",
   "execution_count": 45,
   "metadata": {},
   "outputs": [],
   "source": [
    "df_dataset2[\"Nationality\"]=df_dataset2[\"Nationality\"].apply(lambda x: x.replace(\"PHILIPPINES\", \"FILIPINO\"))"
   ]
  },
  {
   "cell_type": "code",
   "execution_count": 46,
   "metadata": {},
   "outputs": [],
   "source": [
    "#Convertimos el rank a int\n",
    "df_dataset2[\"Current Rank\"]=df_dataset2[\"Current Rank\"].astype('int64')"
   ]
  },
  {
   "cell_type": "code",
   "execution_count": 47,
   "metadata": {},
   "outputs": [],
   "source": [
    "#Lo pasamos a entero\n",
    "df_dataset2[\"Previous Year Rank\"]=df_dataset2[\"Previous Year Rank\"].astype('int64')"
   ]
  },
  {
   "cell_type": "code",
   "execution_count": 50,
   "metadata": {},
   "outputs": [],
   "source": [
    "#creamos la columna rank_improve, si=1 su rank mejoro\n",
    "df_dataset2[\"rank_improve\"]=np.where(\n",
    "    (df_dataset2[\"Current Rank\"]<df_dataset2[\"Previous Year Rank\"]),\n",
    "    1,\n",
    "    0\n",
    ")"
   ]
  },
  {
   "cell_type": "code",
   "execution_count": 49,
   "metadata": {},
   "outputs": [],
   "source": [
    "df_dataset2[\"c\"]=1"
   ]
  },
  {
   "cell_type": "code",
   "execution_count": 54,
   "metadata": {},
   "outputs": [],
   "source": [
    "# Creamos un df limpio\n",
    "df_dataset3=df_dataset2.copy()\n",
    "df_dataset3.to_csv(\"Datos_Limpios.csv\")"
   ]
  },
  {
   "cell_type": "markdown",
   "metadata": {},
   "source": [
    "# Deportistas cuyo ranking ha subido al menos dos lugares entre 2010 y 2020"
   ]
  },
  {
   "cell_type": "code",
   "execution_count": 55,
   "metadata": {},
   "outputs": [],
   "source": [
    "df_dataset2.to_csv(\"Datos_Limpios.csv\")"
   ]
  },
  {
   "cell_type": "code",
   "execution_count": 56,
   "metadata": {},
   "outputs": [],
   "source": [
    "jugadores=df_dataset2[\"Name\"].sort_values(ascending=True).unique()"
   ]
  },
  {
   "cell_type": "code",
   "execution_count": 80,
   "metadata": {},
   "outputs": [],
   "source": [
    "def Ascenso_jug(jugadores, datos):\n",
    "    dic={}\n",
    "    ascenso=0\n",
    "    for jugador in jugadores:\n",
    "        for index, row in datos[(datos[\"Name\"]==jugador)&(datos[\"year_dt\"]>=2010)].iterrows():\n",
    "            current=int(row[\"Current Rank\"])\n",
    "            previous=int(row[\"Previous Year Rank\"])\n",
    "            if current<previous:\n",
    "                ascenso=ascenso+1\n",
    "        if ascenso>2:\n",
    "            dic[jugador]=ascenso\n",
    "        ascenso=0\n",
    "    data_frame=pd.DataFrame(list(dic.items()), columns=[\"jugador\",\"crecimiento_rankin\"])\n",
    "    return data_frame"
   ]
  },
  {
   "cell_type": "code",
   "execution_count": 81,
   "metadata": {},
   "outputs": [],
   "source": [
    "ascenso_df=Ascenso_jug(jugadores , df_dataset2)"
   ]
  },
  {
   "cell_type": "code",
   "execution_count": 87,
   "metadata": {},
   "outputs": [],
   "source": [
    "ascenso_df=ascenso_df.sort_values(\"crecimiento_rankin\", ascending=False)"
   ]
  },
  {
   "cell_type": "code",
   "execution_count": 88,
   "metadata": {},
   "outputs": [],
   "source": [
    "ascenso_df.to_csv(\"ascenso_jugadores.csv\")"
   ]
  },
  {
   "cell_type": "code",
   "execution_count": 89,
   "metadata": {},
   "outputs": [
    {
     "data": {
      "text/html": [
       "<div>\n",
       "<style scoped>\n",
       "    .dataframe tbody tr th:only-of-type {\n",
       "        vertical-align: middle;\n",
       "    }\n",
       "\n",
       "    .dataframe tbody tr th {\n",
       "        vertical-align: top;\n",
       "    }\n",
       "\n",
       "    .dataframe thead th {\n",
       "        text-align: right;\n",
       "    }\n",
       "</style>\n",
       "<table border=\"1\" class=\"dataframe\">\n",
       "  <thead>\n",
       "    <tr style=\"text-align: right;\">\n",
       "      <th></th>\n",
       "      <th>Unnamed: 0</th>\n",
       "      <th>jugador</th>\n",
       "      <th>crecimiento_rankin</th>\n",
       "    </tr>\n",
       "  </thead>\n",
       "  <tbody>\n",
       "    <tr>\n",
       "      <th>0</th>\n",
       "      <td>5</td>\n",
       "      <td>ROGER FEDERER</td>\n",
       "      <td>7</td>\n",
       "    </tr>\n",
       "    <tr>\n",
       "      <th>1</th>\n",
       "      <td>4</td>\n",
       "      <td>LIONEL MESSI</td>\n",
       "      <td>6</td>\n",
       "    </tr>\n",
       "    <tr>\n",
       "      <th>2</th>\n",
       "      <td>0</td>\n",
       "      <td>CRISTIANO RONALDO</td>\n",
       "      <td>5</td>\n",
       "    </tr>\n",
       "    <tr>\n",
       "      <th>3</th>\n",
       "      <td>3</td>\n",
       "      <td>LEBRON JAMES</td>\n",
       "      <td>5</td>\n",
       "    </tr>\n",
       "    <tr>\n",
       "      <th>4</th>\n",
       "      <td>2</td>\n",
       "      <td>KEVIN DURANT</td>\n",
       "      <td>4</td>\n",
       "    </tr>\n",
       "    <tr>\n",
       "      <th>5</th>\n",
       "      <td>1</td>\n",
       "      <td>FLOYD MAYWEATHER</td>\n",
       "      <td>3</td>\n",
       "    </tr>\n",
       "  </tbody>\n",
       "</table>\n",
       "</div>"
      ],
      "text/plain": [
       "   Unnamed: 0            jugador  crecimiento_rankin\n",
       "0           5      ROGER FEDERER                   7\n",
       "1           4       LIONEL MESSI                   6\n",
       "2           0  CRISTIANO RONALDO                   5\n",
       "3           3       LEBRON JAMES                   5\n",
       "4           2       KEVIN DURANT                   4\n",
       "5           1   FLOYD MAYWEATHER                   3"
      ]
     },
     "execution_count": 89,
     "metadata": {},
     "output_type": "execute_result"
    }
   ],
   "source": [
    "Ascenso=pd.read_csv('ascenso_jugadores.csv')\n",
    "Ascenso"
   ]
  },
  {
   "cell_type": "markdown",
   "metadata": {},
   "source": [
    "## Atleta con el menor número de apariciones y mayores ganancias"
   ]
  },
  {
   "cell_type": "code",
   "execution_count": 101,
   "metadata": {},
   "outputs": [],
   "source": [
    "df_atleta=df_dataset2.groupby([\"Name\"])[[\"c\", \"earnings ($ million)\"]].sum()\n",
    "df_atleta=df_dataset2.sort_values(by=[\"c\", \"earnings ($ million)\"], ascending=(True, False))\n",
    "df_atleta.reset_index(inplace=True)"
   ]
  },
  {
   "cell_type": "code",
   "execution_count": 113,
   "metadata": {},
   "outputs": [
    {
     "data": {
      "text/html": [
       "<div>\n",
       "<style scoped>\n",
       "    .dataframe tbody tr th:only-of-type {\n",
       "        vertical-align: middle;\n",
       "    }\n",
       "\n",
       "    .dataframe tbody tr th {\n",
       "        vertical-align: top;\n",
       "    }\n",
       "\n",
       "    .dataframe thead th {\n",
       "        text-align: right;\n",
       "    }\n",
       "</style>\n",
       "<table border=\"1\" class=\"dataframe\">\n",
       "  <thead>\n",
       "    <tr style=\"text-align: right;\">\n",
       "      <th></th>\n",
       "      <th>index</th>\n",
       "      <th>Name</th>\n",
       "      <th>Nationality</th>\n",
       "      <th>Current Rank</th>\n",
       "      <th>Previous Year Rank</th>\n",
       "      <th>Sport</th>\n",
       "      <th>Year</th>\n",
       "      <th>earnings ($ million)</th>\n",
       "      <th>year_dt</th>\n",
       "      <th>rank_improve</th>\n",
       "      <th>c</th>\n",
       "    </tr>\n",
       "  </thead>\n",
       "  <tbody>\n",
       "    <tr>\n",
       "      <th>0</th>\n",
       "      <td>241</td>\n",
       "      <td>FLOYD MAYWEATHER</td>\n",
       "      <td>USA</td>\n",
       "      <td>1</td>\n",
       "      <td>1</td>\n",
       "      <td>BOXING</td>\n",
       "      <td>2015</td>\n",
       "      <td>300.0</td>\n",
       "      <td>2015</td>\n",
       "      <td>0</td>\n",
       "      <td>1</td>\n",
       "    </tr>\n",
       "  </tbody>\n",
       "</table>\n",
       "</div>"
      ],
      "text/plain": [
       "   index              Name Nationality  Current Rank  Previous Year Rank  \\\n",
       "0    241  FLOYD MAYWEATHER         USA             1                   1   \n",
       "\n",
       "    Sport  Year  earnings ($ million)  year_dt  rank_improve  c  \n",
       "0  BOXING  2015                 300.0     2015             0  1  "
      ]
     },
     "execution_count": 113,
     "metadata": {},
     "output_type": "execute_result"
    }
   ],
   "source": [
    "df_atleta.head(1)"
   ]
  },
  {
   "cell_type": "markdown",
   "metadata": {},
   "source": [
    "## Deporte y país con mayor número de atletas no rankeados que entraron en la lista de atletas mejor pagados"
   ]
  },
  {
   "cell_type": "code",
   "execution_count": 115,
   "metadata": {},
   "outputs": [
    {
     "data": {
      "text/plain": [
       "array([ 1,  2,  3,  4,  5,  6,  7,  8,  9, 10], dtype=int64)"
      ]
     },
     "execution_count": 115,
     "metadata": {},
     "output_type": "execute_result"
    }
   ],
   "source": [
    "df_dataset2[\"Current Rank\"].unique()"
   ]
  },
  {
   "cell_type": "code",
   "execution_count": 116,
   "metadata": {},
   "outputs": [
    {
     "data": {
      "text/plain": [
       "Index(['Name', 'Nationality', 'Current Rank', 'Previous Year Rank', 'Sport',\n",
       "       'Year', 'earnings ($ million)', 'year_dt', 'rank_improve', 'c'],\n",
       "      dtype='object')"
      ]
     },
     "execution_count": 116,
     "metadata": {},
     "output_type": "execute_result"
    }
   ],
   "source": [
    "df_dataset2.columns"
   ]
  },
  {
   "cell_type": "code",
   "execution_count": 126,
   "metadata": {},
   "outputs": [
    {
     "data": {
      "text/html": [
       "<div>\n",
       "<style scoped>\n",
       "    .dataframe tbody tr th:only-of-type {\n",
       "        vertical-align: middle;\n",
       "    }\n",
       "\n",
       "    .dataframe tbody tr th {\n",
       "        vertical-align: top;\n",
       "    }\n",
       "\n",
       "    .dataframe thead th {\n",
       "        text-align: right;\n",
       "    }\n",
       "</style>\n",
       "<table border=\"1\" class=\"dataframe\">\n",
       "  <thead>\n",
       "    <tr style=\"text-align: right;\">\n",
       "      <th></th>\n",
       "      <th>Sport</th>\n",
       "      <th>Nationality</th>\n",
       "      <th>c</th>\n",
       "    </tr>\n",
       "  </thead>\n",
       "  <tbody>\n",
       "    <tr>\n",
       "      <th>0</th>\n",
       "      <td>BASKETBALL</td>\n",
       "      <td>USA</td>\n",
       "      <td>81</td>\n",
       "    </tr>\n",
       "  </tbody>\n",
       "</table>\n",
       "</div>"
      ],
      "text/plain": [
       "        Sport Nationality   c\n",
       "0  BASKETBALL         USA  81"
      ]
     },
     "execution_count": 126,
     "metadata": {},
     "output_type": "execute_result"
    }
   ],
   "source": [
    "df_DepPa=df_dataset2.groupby([\"Sport\", \"Nationality\"])[[\"c\"]].sum().sort_values(\"c\", ascending=False)\n",
    "df_DepPa.reset_index(inplace=False).head(1)"
   ]
  },
  {
   "cell_type": "markdown",
   "metadata": {},
   "source": [
    "## País con mayor número de deportes con atletas en el dataset"
   ]
  },
  {
   "cell_type": "code",
   "execution_count": 125,
   "metadata": {},
   "outputs": [
    {
     "data": {
      "text/html": [
       "<div>\n",
       "<style scoped>\n",
       "    .dataframe tbody tr th:only-of-type {\n",
       "        vertical-align: middle;\n",
       "    }\n",
       "\n",
       "    .dataframe tbody tr th {\n",
       "        vertical-align: top;\n",
       "    }\n",
       "\n",
       "    .dataframe thead th {\n",
       "        text-align: right;\n",
       "    }\n",
       "</style>\n",
       "<table border=\"1\" class=\"dataframe\">\n",
       "  <thead>\n",
       "    <tr style=\"text-align: right;\">\n",
       "      <th></th>\n",
       "      <th>Nationality</th>\n",
       "      <th>c</th>\n",
       "    </tr>\n",
       "  </thead>\n",
       "  <tbody>\n",
       "    <tr>\n",
       "      <th>0</th>\n",
       "      <td>USA</td>\n",
       "      <td>206</td>\n",
       "    </tr>\n",
       "  </tbody>\n",
       "</table>\n",
       "</div>"
      ],
      "text/plain": [
       "  Nationality    c\n",
       "0         USA  206"
      ]
     },
     "execution_count": 125,
     "metadata": {},
     "output_type": "execute_result"
    }
   ],
   "source": [
    "df_PaDep=df_dataset2.groupby([\"Nationality\"])[\"c\"].sum().sort_values(ascending=False).to_frame()\n",
    "df_PaDep.reset_index(inplace=True)\n",
    "df_PaDep.head(1)"
   ]
  },
  {
   "cell_type": "markdown",
   "metadata": {},
   "source": [
    "## Cuántos atletas por deporte tiene cada país"
   ]
  },
  {
   "cell_type": "code",
   "execution_count": 131,
   "metadata": {},
   "outputs": [
    {
     "name": "stderr",
     "output_type": "stream",
     "text": [
      "C:\\Users\\alcor\\AppData\\Local\\Temp\\ipykernel_12352\\1476682071.py:1: FutureWarning: In a future version of pandas all arguments of Series.sort_values will be keyword-only.\n",
      "  df_AtDep=df_dataset2.groupby([\"Sport\", \"Nationality\"])[\"c\"].sum().sort_values(False).to_frame()\n"
     ]
    }
   ],
   "source": [
    "df_AtDep=df_dataset2.groupby([\"Sport\", \"Nationality\"])[\"c\"].sum().sort_values(False).to_frame()\n",
    "df_AtDep.reset_index(inplace=True)"
   ]
  },
  {
   "cell_type": "code",
   "execution_count": 132,
   "metadata": {},
   "outputs": [
    {
     "data": {
      "text/html": [
       "<div>\n",
       "<style scoped>\n",
       "    .dataframe tbody tr th:only-of-type {\n",
       "        vertical-align: middle;\n",
       "    }\n",
       "\n",
       "    .dataframe tbody tr th {\n",
       "        vertical-align: top;\n",
       "    }\n",
       "\n",
       "    .dataframe thead th {\n",
       "        text-align: right;\n",
       "    }\n",
       "</style>\n",
       "<table border=\"1\" class=\"dataframe\">\n",
       "  <thead>\n",
       "    <tr style=\"text-align: right;\">\n",
       "      <th></th>\n",
       "      <th>Sport</th>\n",
       "      <th>Nationality</th>\n",
       "      <th>c</th>\n",
       "    </tr>\n",
       "  </thead>\n",
       "  <tbody>\n",
       "    <tr>\n",
       "      <th>0</th>\n",
       "      <td>BOXING</td>\n",
       "      <td>MEXICO</td>\n",
       "      <td>1</td>\n",
       "    </tr>\n",
       "    <tr>\n",
       "      <th>14</th>\n",
       "      <td>AUTO RACING</td>\n",
       "      <td>USA</td>\n",
       "      <td>1</td>\n",
       "    </tr>\n",
       "    <tr>\n",
       "      <th>13</th>\n",
       "      <td>AMERICAN FOOTBALL / BASEBALL</td>\n",
       "      <td>USA</td>\n",
       "      <td>1</td>\n",
       "    </tr>\n",
       "    <tr>\n",
       "      <th>12</th>\n",
       "      <td>AUTO RACING</td>\n",
       "      <td>AUSTRIA</td>\n",
       "      <td>1</td>\n",
       "    </tr>\n",
       "    <tr>\n",
       "      <th>11</th>\n",
       "      <td>MMA</td>\n",
       "      <td>IRELAND</td>\n",
       "      <td>1</td>\n",
       "    </tr>\n",
       "    <tr>\n",
       "      <th>10</th>\n",
       "      <td>ICE HOCKEY</td>\n",
       "      <td>RUSSIA</td>\n",
       "      <td>1</td>\n",
       "    </tr>\n",
       "    <tr>\n",
       "      <th>8</th>\n",
       "      <td>CYCLING</td>\n",
       "      <td>USA</td>\n",
       "      <td>1</td>\n",
       "    </tr>\n",
       "    <tr>\n",
       "      <th>9</th>\n",
       "      <td>GOLF</td>\n",
       "      <td>AUSTRALIA</td>\n",
       "      <td>1</td>\n",
       "    </tr>\n",
       "    <tr>\n",
       "      <th>6</th>\n",
       "      <td>HOCKEY</td>\n",
       "      <td>CANADA</td>\n",
       "      <td>1</td>\n",
       "    </tr>\n",
       "    <tr>\n",
       "      <th>5</th>\n",
       "      <td>TENNIS</td>\n",
       "      <td>SPAIN</td>\n",
       "      <td>1</td>\n",
       "    </tr>\n",
       "    <tr>\n",
       "      <th>4</th>\n",
       "      <td>BOXING</td>\n",
       "      <td>CANADA</td>\n",
       "      <td>1</td>\n",
       "    </tr>\n",
       "    <tr>\n",
       "      <th>3</th>\n",
       "      <td>GOLF</td>\n",
       "      <td>NORTHERN IRELAND</td>\n",
       "      <td>1</td>\n",
       "    </tr>\n",
       "    <tr>\n",
       "      <th>2</th>\n",
       "      <td>NBA</td>\n",
       "      <td>USA</td>\n",
       "      <td>1</td>\n",
       "    </tr>\n",
       "    <tr>\n",
       "      <th>1</th>\n",
       "      <td>TENNIS</td>\n",
       "      <td>SERBIA</td>\n",
       "      <td>1</td>\n",
       "    </tr>\n",
       "    <tr>\n",
       "      <th>7</th>\n",
       "      <td>BASEBALL</td>\n",
       "      <td>DOMINICAN</td>\n",
       "      <td>1</td>\n",
       "    </tr>\n",
       "    <tr>\n",
       "      <th>15</th>\n",
       "      <td>ICE HOCKEY</td>\n",
       "      <td>CANADA</td>\n",
       "      <td>2</td>\n",
       "    </tr>\n",
       "    <tr>\n",
       "      <th>16</th>\n",
       "      <td>AUTO RACING</td>\n",
       "      <td>CANADA</td>\n",
       "      <td>2</td>\n",
       "    </tr>\n",
       "    <tr>\n",
       "      <th>17</th>\n",
       "      <td>AUTO RACING (NASCAR)</td>\n",
       "      <td>USA</td>\n",
       "      <td>2</td>\n",
       "    </tr>\n",
       "    <tr>\n",
       "      <th>22</th>\n",
       "      <td>NFL</td>\n",
       "      <td>USA</td>\n",
       "      <td>3</td>\n",
       "    </tr>\n",
       "    <tr>\n",
       "      <th>21</th>\n",
       "      <td>AUTO RACING</td>\n",
       "      <td>FRANCE</td>\n",
       "      <td>3</td>\n",
       "    </tr>\n",
       "    <tr>\n",
       "      <th>19</th>\n",
       "      <td>F1 RACING</td>\n",
       "      <td>FINLAND</td>\n",
       "      <td>3</td>\n",
       "    </tr>\n",
       "    <tr>\n",
       "      <th>18</th>\n",
       "      <td>NASCAR</td>\n",
       "      <td>USA</td>\n",
       "      <td>3</td>\n",
       "    </tr>\n",
       "    <tr>\n",
       "      <th>20</th>\n",
       "      <td>AUTO RACING</td>\n",
       "      <td>GERMANY</td>\n",
       "      <td>3</td>\n",
       "    </tr>\n",
       "    <tr>\n",
       "      <th>23</th>\n",
       "      <td>BOXING</td>\n",
       "      <td>FILIPINO</td>\n",
       "      <td>4</td>\n",
       "    </tr>\n",
       "    <tr>\n",
       "      <th>24</th>\n",
       "      <td>AUTO RACING</td>\n",
       "      <td>UK</td>\n",
       "      <td>4</td>\n",
       "    </tr>\n",
       "    <tr>\n",
       "      <th>25</th>\n",
       "      <td>MOTORCYCLE GP</td>\n",
       "      <td>ITALY</td>\n",
       "      <td>4</td>\n",
       "    </tr>\n",
       "    <tr>\n",
       "      <th>26</th>\n",
       "      <td>AUTO RACING</td>\n",
       "      <td>BRAZIL</td>\n",
       "      <td>4</td>\n",
       "    </tr>\n",
       "    <tr>\n",
       "      <th>30</th>\n",
       "      <td>BASEBALL</td>\n",
       "      <td>USA</td>\n",
       "      <td>5</td>\n",
       "    </tr>\n",
       "    <tr>\n",
       "      <th>29</th>\n",
       "      <td>SOCCER</td>\n",
       "      <td>BRAZIL</td>\n",
       "      <td>5</td>\n",
       "    </tr>\n",
       "    <tr>\n",
       "      <th>27</th>\n",
       "      <td>F1 RACING</td>\n",
       "      <td>GERMANY</td>\n",
       "      <td>5</td>\n",
       "    </tr>\n",
       "    <tr>\n",
       "      <th>28</th>\n",
       "      <td>F1 MOTORSPORTS</td>\n",
       "      <td>GERMANY</td>\n",
       "      <td>5</td>\n",
       "    </tr>\n",
       "    <tr>\n",
       "      <th>31</th>\n",
       "      <td>SOCCER</td>\n",
       "      <td>UK</td>\n",
       "      <td>9</td>\n",
       "    </tr>\n",
       "    <tr>\n",
       "      <th>32</th>\n",
       "      <td>TENNIS</td>\n",
       "      <td>USA</td>\n",
       "      <td>9</td>\n",
       "    </tr>\n",
       "    <tr>\n",
       "      <th>33</th>\n",
       "      <td>SOCCER</td>\n",
       "      <td>ARGENTINA</td>\n",
       "      <td>9</td>\n",
       "    </tr>\n",
       "    <tr>\n",
       "      <th>34</th>\n",
       "      <td>SOCCER</td>\n",
       "      <td>PORTUGAL</td>\n",
       "      <td>10</td>\n",
       "    </tr>\n",
       "    <tr>\n",
       "      <th>35</th>\n",
       "      <td>TENNIS</td>\n",
       "      <td>SWITZERLAND</td>\n",
       "      <td>12</td>\n",
       "    </tr>\n",
       "    <tr>\n",
       "      <th>36</th>\n",
       "      <td>AMERICAN FOOTBALL</td>\n",
       "      <td>USA</td>\n",
       "      <td>17</td>\n",
       "    </tr>\n",
       "    <tr>\n",
       "      <th>37</th>\n",
       "      <td>BOXING</td>\n",
       "      <td>USA</td>\n",
       "      <td>40</td>\n",
       "    </tr>\n",
       "    <tr>\n",
       "      <th>38</th>\n",
       "      <td>GOLF</td>\n",
       "      <td>USA</td>\n",
       "      <td>42</td>\n",
       "    </tr>\n",
       "    <tr>\n",
       "      <th>39</th>\n",
       "      <td>BASKETBALL</td>\n",
       "      <td>USA</td>\n",
       "      <td>81</td>\n",
       "    </tr>\n",
       "  </tbody>\n",
       "</table>\n",
       "</div>"
      ],
      "text/plain": [
       "                           Sport       Nationality   c\n",
       "0                         BOXING            MEXICO   1\n",
       "14                   AUTO RACING               USA   1\n",
       "13  AMERICAN FOOTBALL / BASEBALL               USA   1\n",
       "12                   AUTO RACING           AUSTRIA   1\n",
       "11                           MMA           IRELAND   1\n",
       "10                    ICE HOCKEY            RUSSIA   1\n",
       "8                        CYCLING               USA   1\n",
       "9                           GOLF         AUSTRALIA   1\n",
       "6                         HOCKEY            CANADA   1\n",
       "5                         TENNIS             SPAIN   1\n",
       "4                         BOXING            CANADA   1\n",
       "3                           GOLF  NORTHERN IRELAND   1\n",
       "2                            NBA               USA   1\n",
       "1                         TENNIS            SERBIA   1\n",
       "7                       BASEBALL         DOMINICAN   1\n",
       "15                    ICE HOCKEY            CANADA   2\n",
       "16                   AUTO RACING            CANADA   2\n",
       "17          AUTO RACING (NASCAR)               USA   2\n",
       "22                           NFL               USA   3\n",
       "21                   AUTO RACING            FRANCE   3\n",
       "19                     F1 RACING           FINLAND   3\n",
       "18                        NASCAR               USA   3\n",
       "20                   AUTO RACING           GERMANY   3\n",
       "23                        BOXING          FILIPINO   4\n",
       "24                   AUTO RACING                UK   4\n",
       "25                 MOTORCYCLE GP             ITALY   4\n",
       "26                   AUTO RACING            BRAZIL   4\n",
       "30                      BASEBALL               USA   5\n",
       "29                        SOCCER            BRAZIL   5\n",
       "27                     F1 RACING           GERMANY   5\n",
       "28                F1 MOTORSPORTS           GERMANY   5\n",
       "31                        SOCCER                UK   9\n",
       "32                        TENNIS               USA   9\n",
       "33                        SOCCER         ARGENTINA   9\n",
       "34                        SOCCER          PORTUGAL  10\n",
       "35                        TENNIS       SWITZERLAND  12\n",
       "36             AMERICAN FOOTBALL               USA  17\n",
       "37                        BOXING               USA  40\n",
       "38                          GOLF               USA  42\n",
       "39                    BASKETBALL               USA  81"
      ]
     },
     "execution_count": 132,
     "metadata": {},
     "output_type": "execute_result"
    }
   ],
   "source": [
    "df_AtDep=df_AtDep.sort_values([\"c\"], ascending=True)\n",
    "df_AtDep"
   ]
  },
  {
   "cell_type": "markdown",
   "metadata": {},
   "source": [
    "## Ganancia mínima y máxima (dentro del dataset) por deporte y país"
   ]
  },
  {
   "cell_type": "code",
   "execution_count": 137,
   "metadata": {},
   "outputs": [
    {
     "data": {
      "text/html": [
       "<div>\n",
       "<style scoped>\n",
       "    .dataframe tbody tr th:only-of-type {\n",
       "        vertical-align: middle;\n",
       "    }\n",
       "\n",
       "    .dataframe tbody tr th {\n",
       "        vertical-align: top;\n",
       "    }\n",
       "\n",
       "    .dataframe thead th {\n",
       "        text-align: right;\n",
       "    }\n",
       "</style>\n",
       "<table border=\"1\" class=\"dataframe\">\n",
       "  <thead>\n",
       "    <tr style=\"text-align: right;\">\n",
       "      <th></th>\n",
       "      <th>Nationality</th>\n",
       "      <th>Max</th>\n",
       "      <th>Min</th>\n",
       "    </tr>\n",
       "  </thead>\n",
       "  <tbody>\n",
       "    <tr>\n",
       "      <th>20</th>\n",
       "      <td>USA</td>\n",
       "      <td>300.0</td>\n",
       "      <td>8.1</td>\n",
       "    </tr>\n",
       "    <tr>\n",
       "      <th>6</th>\n",
       "      <td>FILIPINO</td>\n",
       "      <td>160.0</td>\n",
       "      <td>40.0</td>\n",
       "    </tr>\n",
       "    <tr>\n",
       "      <th>0</th>\n",
       "      <td>ARGENTINA</td>\n",
       "      <td>127.0</td>\n",
       "      <td>32.3</td>\n",
       "    </tr>\n",
       "    <tr>\n",
       "      <th>14</th>\n",
       "      <td>PORTUGAL</td>\n",
       "      <td>109.0</td>\n",
       "      <td>38.0</td>\n",
       "    </tr>\n",
       "    <tr>\n",
       "      <th>18</th>\n",
       "      <td>SWITZERLAND</td>\n",
       "      <td>106.3</td>\n",
       "      <td>35.0</td>\n",
       "    </tr>\n",
       "    <tr>\n",
       "      <th>3</th>\n",
       "      <td>BRAZIL</td>\n",
       "      <td>105.0</td>\n",
       "      <td>10.0</td>\n",
       "    </tr>\n",
       "    <tr>\n",
       "      <th>10</th>\n",
       "      <td>IRELAND</td>\n",
       "      <td>99.0</td>\n",
       "      <td>99.0</td>\n",
       "    </tr>\n",
       "    <tr>\n",
       "      <th>12</th>\n",
       "      <td>MEXICO</td>\n",
       "      <td>94.0</td>\n",
       "      <td>94.0</td>\n",
       "    </tr>\n",
       "    <tr>\n",
       "      <th>9</th>\n",
       "      <td>GERMANY</td>\n",
       "      <td>80.0</td>\n",
       "      <td>15.0</td>\n",
       "    </tr>\n",
       "    <tr>\n",
       "      <th>16</th>\n",
       "      <td>SERBIA</td>\n",
       "      <td>55.8</td>\n",
       "      <td>55.8</td>\n",
       "    </tr>\n",
       "    <tr>\n",
       "      <th>19</th>\n",
       "      <td>UK</td>\n",
       "      <td>50.0</td>\n",
       "      <td>9.0</td>\n",
       "    </tr>\n",
       "    <tr>\n",
       "      <th>13</th>\n",
       "      <td>NORTHERN IRELAND</td>\n",
       "      <td>50.0</td>\n",
       "      <td>50.0</td>\n",
       "    </tr>\n",
       "    <tr>\n",
       "      <th>7</th>\n",
       "      <td>FINLAND</td>\n",
       "      <td>45.0</td>\n",
       "      <td>40.0</td>\n",
       "    </tr>\n",
       "    <tr>\n",
       "      <th>17</th>\n",
       "      <td>SPAIN</td>\n",
       "      <td>44.5</td>\n",
       "      <td>44.5</td>\n",
       "    </tr>\n",
       "    <tr>\n",
       "      <th>11</th>\n",
       "      <td>ITALY</td>\n",
       "      <td>35.0</td>\n",
       "      <td>28.0</td>\n",
       "    </tr>\n",
       "    <tr>\n",
       "      <th>5</th>\n",
       "      <td>DOMINICAN</td>\n",
       "      <td>35.0</td>\n",
       "      <td>35.0</td>\n",
       "    </tr>\n",
       "    <tr>\n",
       "      <th>15</th>\n",
       "      <td>RUSSIA</td>\n",
       "      <td>29.8</td>\n",
       "      <td>29.8</td>\n",
       "    </tr>\n",
       "    <tr>\n",
       "      <th>4</th>\n",
       "      <td>CANADA</td>\n",
       "      <td>23.0</td>\n",
       "      <td>10.2</td>\n",
       "    </tr>\n",
       "    <tr>\n",
       "      <th>8</th>\n",
       "      <td>FRANCE</td>\n",
       "      <td>16.0</td>\n",
       "      <td>9.0</td>\n",
       "    </tr>\n",
       "    <tr>\n",
       "      <th>2</th>\n",
       "      <td>AUSTRIA</td>\n",
       "      <td>13.5</td>\n",
       "      <td>13.5</td>\n",
       "    </tr>\n",
       "    <tr>\n",
       "      <th>1</th>\n",
       "      <td>AUSTRALIA</td>\n",
       "      <td>8.5</td>\n",
       "      <td>8.5</td>\n",
       "    </tr>\n",
       "  </tbody>\n",
       "</table>\n",
       "</div>"
      ],
      "text/plain": [
       "         Nationality    Max   Min\n",
       "20               USA  300.0   8.1\n",
       "6           FILIPINO  160.0  40.0\n",
       "0          ARGENTINA  127.0  32.3\n",
       "14          PORTUGAL  109.0  38.0\n",
       "18       SWITZERLAND  106.3  35.0\n",
       "3             BRAZIL  105.0  10.0\n",
       "10           IRELAND   99.0  99.0\n",
       "12            MEXICO   94.0  94.0\n",
       "9            GERMANY   80.0  15.0\n",
       "16            SERBIA   55.8  55.8\n",
       "19                UK   50.0   9.0\n",
       "13  NORTHERN IRELAND   50.0  50.0\n",
       "7            FINLAND   45.0  40.0\n",
       "17             SPAIN   44.5  44.5\n",
       "11             ITALY   35.0  28.0\n",
       "5          DOMINICAN   35.0  35.0\n",
       "15            RUSSIA   29.8  29.8\n",
       "4             CANADA   23.0  10.2\n",
       "8             FRANCE   16.0   9.0\n",
       "2            AUSTRIA   13.5  13.5\n",
       "1          AUSTRALIA    8.5   8.5"
      ]
     },
     "execution_count": 137,
     "metadata": {},
     "output_type": "execute_result"
    }
   ],
   "source": [
    "df_GanDepPa=df_dataset2.groupby('Nationality').agg({'earnings ($ million)':[np.max,np.min]})\n",
    "df_GanDepPa.columns=['Max','Min']\n",
    "df_GanDepPa=df_GanDepPa.reset_index()\n",
    "df_GanDepPa.sort_values(by=['Max', 'Min'], ascending = [False,True])"
   ]
  },
  {
   "cell_type": "markdown",
   "metadata": {},
   "source": [
    "## Atleta con mayores ganancias por deporte por década"
   ]
  },
  {
   "cell_type": "code",
   "execution_count": 138,
   "metadata": {},
   "outputs": [
    {
     "data": {
      "text/plain": [
       "array([1990, 1991, 1992, 1993, 1994, 1995, 1996, 1997, 1998, 1999, 2000,\n",
       "       2002, 2003, 2004, 2005, 2006, 2007, 2008, 2009, 2010, 2011, 2012,\n",
       "       2013, 2014, 2015, 2016, 2017, 2018, 2019, 2020], dtype=int64)"
      ]
     },
     "execution_count": 138,
     "metadata": {},
     "output_type": "execute_result"
    }
   ],
   "source": [
    "df_dataset2['Year'].unique()"
   ]
  },
  {
   "cell_type": "code",
   "execution_count": 156,
   "metadata": {},
   "outputs": [],
   "source": [
    "mas_ganancias=df_dataset2.copy()\n",
    "years = 10\n",
    "\n",
    "min_year = min(mas_ganancias['Year'])\n",
    "max_year = max(mas_ganancias['Year'])\n",
    "\n",
    "decades = list(range(min_year, max_year + years + 1, years))\n",
    "\n",
    "intervalos_dec=[[decades[i],decades[i+1]-1] for i,_ in enumerate(decades) if len(decades)-1 > i]\n",
    "\n",
    "def decades_range(year):\n",
    "    for intervalos in intervalos_dec:\n",
    "        if intervalos[0] <= year <= intervalos[1]:\n",
    "            return str(intervalos[0]) + '-' + str(intervalos[1])\n",
    "    return None\n",
    "\n",
    "mas_ganancias['Intervals.Decade'] = mas_ganancias['Year'].apply(decades_range)\n"
   ]
  },
  {
   "cell_type": "code",
   "execution_count": 157,
   "metadata": {},
   "outputs": [
    {
     "data": {
      "text/html": [
       "<div>\n",
       "<style scoped>\n",
       "    .dataframe tbody tr th:only-of-type {\n",
       "        vertical-align: middle;\n",
       "    }\n",
       "\n",
       "    .dataframe tbody tr th {\n",
       "        vertical-align: top;\n",
       "    }\n",
       "\n",
       "    .dataframe thead th {\n",
       "        text-align: right;\n",
       "    }\n",
       "</style>\n",
       "<table border=\"1\" class=\"dataframe\">\n",
       "  <thead>\n",
       "    <tr style=\"text-align: right;\">\n",
       "      <th></th>\n",
       "      <th>Name</th>\n",
       "      <th>Nationality</th>\n",
       "      <th>Current Rank</th>\n",
       "      <th>Previous Year Rank</th>\n",
       "      <th>Sport</th>\n",
       "      <th>Year</th>\n",
       "      <th>earnings ($ million)</th>\n",
       "      <th>year_dt</th>\n",
       "      <th>rank_improve</th>\n",
       "      <th>c</th>\n",
       "      <th>Intervals.Decade</th>\n",
       "    </tr>\n",
       "  </thead>\n",
       "  <tbody>\n",
       "    <tr>\n",
       "      <th>0</th>\n",
       "      <td>MIKE TYSON</td>\n",
       "      <td>USA</td>\n",
       "      <td>1</td>\n",
       "      <td>120</td>\n",
       "      <td>BOXING</td>\n",
       "      <td>1990</td>\n",
       "      <td>28.6</td>\n",
       "      <td>1990</td>\n",
       "      <td>1</td>\n",
       "      <td>1</td>\n",
       "      <td>1990-1999</td>\n",
       "    </tr>\n",
       "    <tr>\n",
       "      <th>1</th>\n",
       "      <td>BUSTER DOUGLAS</td>\n",
       "      <td>USA</td>\n",
       "      <td>2</td>\n",
       "      <td>120</td>\n",
       "      <td>BOXING</td>\n",
       "      <td>1990</td>\n",
       "      <td>26.0</td>\n",
       "      <td>1990</td>\n",
       "      <td>1</td>\n",
       "      <td>1</td>\n",
       "      <td>1990-1999</td>\n",
       "    </tr>\n",
       "    <tr>\n",
       "      <th>2</th>\n",
       "      <td>SUGAR RAY LEONARD</td>\n",
       "      <td>USA</td>\n",
       "      <td>3</td>\n",
       "      <td>120</td>\n",
       "      <td>BOXING</td>\n",
       "      <td>1990</td>\n",
       "      <td>13.0</td>\n",
       "      <td>1990</td>\n",
       "      <td>1</td>\n",
       "      <td>1</td>\n",
       "      <td>1990-1999</td>\n",
       "    </tr>\n",
       "    <tr>\n",
       "      <th>3</th>\n",
       "      <td>AYRTON SENNA</td>\n",
       "      <td>BRAZIL</td>\n",
       "      <td>4</td>\n",
       "      <td>120</td>\n",
       "      <td>AUTO RACING</td>\n",
       "      <td>1990</td>\n",
       "      <td>10.0</td>\n",
       "      <td>1990</td>\n",
       "      <td>1</td>\n",
       "      <td>1</td>\n",
       "      <td>1990-1999</td>\n",
       "    </tr>\n",
       "    <tr>\n",
       "      <th>4</th>\n",
       "      <td>ALAIN PROST</td>\n",
       "      <td>FRANCE</td>\n",
       "      <td>5</td>\n",
       "      <td>120</td>\n",
       "      <td>AUTO RACING</td>\n",
       "      <td>1990</td>\n",
       "      <td>9.0</td>\n",
       "      <td>1990</td>\n",
       "      <td>1</td>\n",
       "      <td>1</td>\n",
       "      <td>1990-1999</td>\n",
       "    </tr>\n",
       "    <tr>\n",
       "      <th>...</th>\n",
       "      <td>...</td>\n",
       "      <td>...</td>\n",
       "      <td>...</td>\n",
       "      <td>...</td>\n",
       "      <td>...</td>\n",
       "      <td>...</td>\n",
       "      <td>...</td>\n",
       "      <td>...</td>\n",
       "      <td>...</td>\n",
       "      <td>...</td>\n",
       "      <td>...</td>\n",
       "    </tr>\n",
       "    <tr>\n",
       "      <th>296</th>\n",
       "      <td>STEPHEN CURRY</td>\n",
       "      <td>USA</td>\n",
       "      <td>6</td>\n",
       "      <td>9</td>\n",
       "      <td>BASKETBALL</td>\n",
       "      <td>2020</td>\n",
       "      <td>74.4</td>\n",
       "      <td>2020</td>\n",
       "      <td>1</td>\n",
       "      <td>1</td>\n",
       "      <td>2020-2029</td>\n",
       "    </tr>\n",
       "    <tr>\n",
       "      <th>297</th>\n",
       "      <td>KEVIN DURANT</td>\n",
       "      <td>USA</td>\n",
       "      <td>7</td>\n",
       "      <td>10</td>\n",
       "      <td>BASKETBALL</td>\n",
       "      <td>2020</td>\n",
       "      <td>63.9</td>\n",
       "      <td>2020</td>\n",
       "      <td>1</td>\n",
       "      <td>1</td>\n",
       "      <td>2020-2029</td>\n",
       "    </tr>\n",
       "    <tr>\n",
       "      <th>298</th>\n",
       "      <td>TIGER WOODS</td>\n",
       "      <td>USA</td>\n",
       "      <td>8</td>\n",
       "      <td>11</td>\n",
       "      <td>GOLF</td>\n",
       "      <td>2020</td>\n",
       "      <td>62.3</td>\n",
       "      <td>2020</td>\n",
       "      <td>1</td>\n",
       "      <td>1</td>\n",
       "      <td>2020-2029</td>\n",
       "    </tr>\n",
       "    <tr>\n",
       "      <th>299</th>\n",
       "      <td>KIRK COUSINS</td>\n",
       "      <td>USA</td>\n",
       "      <td>9</td>\n",
       "      <td>101</td>\n",
       "      <td>AMERICAN FOOTBALL</td>\n",
       "      <td>2020</td>\n",
       "      <td>60.5</td>\n",
       "      <td>2020</td>\n",
       "      <td>1</td>\n",
       "      <td>1</td>\n",
       "      <td>2020-2029</td>\n",
       "    </tr>\n",
       "    <tr>\n",
       "      <th>300</th>\n",
       "      <td>CARSON WENTZ</td>\n",
       "      <td>USA</td>\n",
       "      <td>10</td>\n",
       "      <td>101</td>\n",
       "      <td>AMERICAN FOOTBALL</td>\n",
       "      <td>2020</td>\n",
       "      <td>59.1</td>\n",
       "      <td>2020</td>\n",
       "      <td>1</td>\n",
       "      <td>1</td>\n",
       "      <td>2020-2029</td>\n",
       "    </tr>\n",
       "  </tbody>\n",
       "</table>\n",
       "<p>301 rows × 11 columns</p>\n",
       "</div>"
      ],
      "text/plain": [
       "                  Name Nationality  Current Rank  Previous Year Rank  \\\n",
       "0           MIKE TYSON         USA             1                 120   \n",
       "1       BUSTER DOUGLAS         USA             2                 120   \n",
       "2    SUGAR RAY LEONARD         USA             3                 120   \n",
       "3         AYRTON SENNA      BRAZIL             4                 120   \n",
       "4          ALAIN PROST      FRANCE             5                 120   \n",
       "..                 ...         ...           ...                 ...   \n",
       "296      STEPHEN CURRY         USA             6                   9   \n",
       "297       KEVIN DURANT         USA             7                  10   \n",
       "298        TIGER WOODS         USA             8                  11   \n",
       "299       KIRK COUSINS         USA             9                 101   \n",
       "300       CARSON WENTZ         USA            10                 101   \n",
       "\n",
       "                 Sport  Year  earnings ($ million)  year_dt  rank_improve  c  \\\n",
       "0               BOXING  1990                  28.6     1990             1  1   \n",
       "1               BOXING  1990                  26.0     1990             1  1   \n",
       "2               BOXING  1990                  13.0     1990             1  1   \n",
       "3          AUTO RACING  1990                  10.0     1990             1  1   \n",
       "4          AUTO RACING  1990                   9.0     1990             1  1   \n",
       "..                 ...   ...                   ...      ...           ... ..   \n",
       "296         BASKETBALL  2020                  74.4     2020             1  1   \n",
       "297         BASKETBALL  2020                  63.9     2020             1  1   \n",
       "298               GOLF  2020                  62.3     2020             1  1   \n",
       "299  AMERICAN FOOTBALL  2020                  60.5     2020             1  1   \n",
       "300  AMERICAN FOOTBALL  2020                  59.1     2020             1  1   \n",
       "\n",
       "    Intervals.Decade  \n",
       "0          1990-1999  \n",
       "1          1990-1999  \n",
       "2          1990-1999  \n",
       "3          1990-1999  \n",
       "4          1990-1999  \n",
       "..               ...  \n",
       "296        2020-2029  \n",
       "297        2020-2029  \n",
       "298        2020-2029  \n",
       "299        2020-2029  \n",
       "300        2020-2029  \n",
       "\n",
       "[301 rows x 11 columns]"
      ]
     },
     "execution_count": 157,
     "metadata": {},
     "output_type": "execute_result"
    }
   ],
   "source": [
    "\n",
    "mas_ganancias"
   ]
  },
  {
   "cell_type": "code",
   "execution_count": 160,
   "metadata": {},
   "outputs": [
    {
     "data": {
      "text/html": [
       "<div>\n",
       "<style scoped>\n",
       "    .dataframe tbody tr th:only-of-type {\n",
       "        vertical-align: middle;\n",
       "    }\n",
       "\n",
       "    .dataframe tbody tr th {\n",
       "        vertical-align: top;\n",
       "    }\n",
       "\n",
       "    .dataframe thead th {\n",
       "        text-align: right;\n",
       "    }\n",
       "</style>\n",
       "<table border=\"1\" class=\"dataframe\">\n",
       "  <thead>\n",
       "    <tr style=\"text-align: right;\">\n",
       "      <th></th>\n",
       "      <th></th>\n",
       "      <th>Name</th>\n",
       "      <th>earnings ($ million)</th>\n",
       "    </tr>\n",
       "    <tr>\n",
       "      <th>Intervals.Decade</th>\n",
       "      <th>Sport</th>\n",
       "      <th></th>\n",
       "      <th></th>\n",
       "    </tr>\n",
       "  </thead>\n",
       "  <tbody>\n",
       "    <tr>\n",
       "      <th rowspan=\"13\" valign=\"top\">1990-1999</th>\n",
       "      <th>AMERICAN FOOTBALL / BASEBALL</th>\n",
       "      <td>DEION SANDERS</td>\n",
       "      <td>22.5</td>\n",
       "    </tr>\n",
       "    <tr>\n",
       "      <th>AUTO RACING</th>\n",
       "      <td>NIGEL MANSELL</td>\n",
       "      <td>64.0</td>\n",
       "    </tr>\n",
       "    <tr>\n",
       "      <th>BASEBALL</th>\n",
       "      <td>GARY SHEFFIELD</td>\n",
       "      <td>17.2</td>\n",
       "    </tr>\n",
       "    <tr>\n",
       "      <th>BASKETBALL</th>\n",
       "      <td>SHAQUILLE O'NEAL</td>\n",
       "      <td>409.8</td>\n",
       "    </tr>\n",
       "    <tr>\n",
       "      <th>BOXING</th>\n",
       "      <td>SUGAR RAY LEONARD</td>\n",
       "      <td>235.1</td>\n",
       "    </tr>\n",
       "    <tr>\n",
       "      <th>F1 MOTORSPORTS</th>\n",
       "      <td>MICHAEL SCHUMACHER</td>\n",
       "      <td>106.0</td>\n",
       "    </tr>\n",
       "    <tr>\n",
       "      <th>GOLF</th>\n",
       "      <td>TIGER WOODS</td>\n",
       "      <td>99.9</td>\n",
       "    </tr>\n",
       "    <tr>\n",
       "      <th>HOCKEY</th>\n",
       "      <td>JOE SAKIC</td>\n",
       "      <td>17.9</td>\n",
       "    </tr>\n",
       "    <tr>\n",
       "      <th>ICE HOCKEY</th>\n",
       "      <td>WAYNE GRETZKY</td>\n",
       "      <td>29.8</td>\n",
       "    </tr>\n",
       "    <tr>\n",
       "      <th>NASCAR</th>\n",
       "      <td>DALE EARNHARDT</td>\n",
       "      <td>43.2</td>\n",
       "    </tr>\n",
       "    <tr>\n",
       "      <th>NBA</th>\n",
       "      <td>SHAQUILLE O'NEAL</td>\n",
       "      <td>15.2</td>\n",
       "    </tr>\n",
       "    <tr>\n",
       "      <th>NFL</th>\n",
       "      <td>JOE MONTANA</td>\n",
       "      <td>21.0</td>\n",
       "    </tr>\n",
       "    <tr>\n",
       "      <th>TENNIS</th>\n",
       "      <td>MONICA SELES</td>\n",
       "      <td>53.6</td>\n",
       "    </tr>\n",
       "    <tr>\n",
       "      <th rowspan=\"14\" valign=\"top\">2000-2009</th>\n",
       "      <th>AMERICAN FOOTBALL</th>\n",
       "      <td>TOM BRADY</td>\n",
       "      <td>42.0</td>\n",
       "    </tr>\n",
       "    <tr>\n",
       "      <th>AUTO RACING</th>\n",
       "      <td>MICHAEL SCHUMACHER</td>\n",
       "      <td>59.0</td>\n",
       "    </tr>\n",
       "    <tr>\n",
       "      <th>AUTO RACING (NASCAR)</th>\n",
       "      <td>JEFF GORDON</td>\n",
       "      <td>24.5</td>\n",
       "    </tr>\n",
       "    <tr>\n",
       "      <th>BASEBALL</th>\n",
       "      <td>ALEX RODRIGUEZ</td>\n",
       "      <td>81.2</td>\n",
       "    </tr>\n",
       "    <tr>\n",
       "      <th>BASKETBALL</th>\n",
       "      <td>SHAQUILLE O'NEAL</td>\n",
       "      <td>329.0</td>\n",
       "    </tr>\n",
       "    <tr>\n",
       "      <th>BOXING</th>\n",
       "      <td>OSCAR DE LA HOYA</td>\n",
       "      <td>134.0</td>\n",
       "    </tr>\n",
       "    <tr>\n",
       "      <th>CYCLING</th>\n",
       "      <td>LANCE ARMSTRONG</td>\n",
       "      <td>28.0</td>\n",
       "    </tr>\n",
       "    <tr>\n",
       "      <th>F1 MOTORSPORTS</th>\n",
       "      <td>MICHAEL SCHUMACHER</td>\n",
       "      <td>142.0</td>\n",
       "    </tr>\n",
       "    <tr>\n",
       "      <th>F1 RACING</th>\n",
       "      <td>MICHAEL SCHUMACHER</td>\n",
       "      <td>234.0</td>\n",
       "    </tr>\n",
       "    <tr>\n",
       "      <th>GOLF</th>\n",
       "      <td>TIGER WOODS</td>\n",
       "      <td>782.3</td>\n",
       "    </tr>\n",
       "    <tr>\n",
       "      <th>MOTORCYCLE GP</th>\n",
       "      <td>VALENTINO ROSSI</td>\n",
       "      <td>128.0</td>\n",
       "    </tr>\n",
       "    <tr>\n",
       "      <th>NASCAR</th>\n",
       "      <td>DALE EARNHARDT JR.</td>\n",
       "      <td>34.0</td>\n",
       "    </tr>\n",
       "    <tr>\n",
       "      <th>SOCCER</th>\n",
       "      <td>RONALDINHO</td>\n",
       "      <td>185.5</td>\n",
       "    </tr>\n",
       "    <tr>\n",
       "      <th>TENNIS</th>\n",
       "      <td>ROGER FEDERER</td>\n",
       "      <td>52.2</td>\n",
       "    </tr>\n",
       "    <tr>\n",
       "      <th rowspan=\"10\" valign=\"top\">2010-2019</th>\n",
       "      <th>AMERICAN FOOTBALL</th>\n",
       "      <td>TERRELL SUGGS</td>\n",
       "      <td>138.3</td>\n",
       "    </tr>\n",
       "    <tr>\n",
       "      <th>AUTO RACING</th>\n",
       "      <td>LEWIS HAMILTON</td>\n",
       "      <td>46.0</td>\n",
       "    </tr>\n",
       "    <tr>\n",
       "      <th>BASEBALL</th>\n",
       "      <td>ALEX RODRIGUEZ</td>\n",
       "      <td>35.0</td>\n",
       "    </tr>\n",
       "    <tr>\n",
       "      <th>BASKETBALL</th>\n",
       "      <td>STEPHEN CURRY</td>\n",
       "      <td>678.6</td>\n",
       "    </tr>\n",
       "    <tr>\n",
       "      <th>BOXING</th>\n",
       "      <td>MANNY PACQUIAO</td>\n",
       "      <td>840.0</td>\n",
       "    </tr>\n",
       "    <tr>\n",
       "      <th>F1 RACING</th>\n",
       "      <td>MICHAEL SCHUMACHER</td>\n",
       "      <td>34.0</td>\n",
       "    </tr>\n",
       "    <tr>\n",
       "      <th>GOLF</th>\n",
       "      <td>TIGER WOODS</td>\n",
       "      <td>429.3</td>\n",
       "    </tr>\n",
       "    <tr>\n",
       "      <th>MMA</th>\n",
       "      <td>CONOR MCGREGOR</td>\n",
       "      <td>99.0</td>\n",
       "    </tr>\n",
       "    <tr>\n",
       "      <th>SOCCER</th>\n",
       "      <td>NEYMAR</td>\n",
       "      <td>682.1</td>\n",
       "    </tr>\n",
       "    <tr>\n",
       "      <th>TENNIS</th>\n",
       "      <td>ROGER FEDERER</td>\n",
       "      <td>639.8</td>\n",
       "    </tr>\n",
       "    <tr>\n",
       "      <th rowspan=\"5\" valign=\"top\">2020-2029</th>\n",
       "      <th>AMERICAN FOOTBALL</th>\n",
       "      <td>KIRK COUSINS</td>\n",
       "      <td>60.5</td>\n",
       "    </tr>\n",
       "    <tr>\n",
       "      <th>BASKETBALL</th>\n",
       "      <td>STEPHEN CURRY</td>\n",
       "      <td>88.2</td>\n",
       "    </tr>\n",
       "    <tr>\n",
       "      <th>GOLF</th>\n",
       "      <td>TIGER WOODS</td>\n",
       "      <td>62.3</td>\n",
       "    </tr>\n",
       "    <tr>\n",
       "      <th>SOCCER</th>\n",
       "      <td>NEYMAR</td>\n",
       "      <td>105.0</td>\n",
       "    </tr>\n",
       "    <tr>\n",
       "      <th>TENNIS</th>\n",
       "      <td>ROGER FEDERER</td>\n",
       "      <td>106.3</td>\n",
       "    </tr>\n",
       "  </tbody>\n",
       "</table>\n",
       "</div>"
      ],
      "text/plain": [
       "                                                             Name  \\\n",
       "Intervals.Decade Sport                                              \n",
       "1990-1999        AMERICAN FOOTBALL / BASEBALL       DEION SANDERS   \n",
       "                 AUTO RACING                        NIGEL MANSELL   \n",
       "                 BASEBALL                          GARY SHEFFIELD   \n",
       "                 BASKETBALL                      SHAQUILLE O'NEAL   \n",
       "                 BOXING                         SUGAR RAY LEONARD   \n",
       "                 F1 MOTORSPORTS                MICHAEL SCHUMACHER   \n",
       "                 GOLF                                 TIGER WOODS   \n",
       "                 HOCKEY                                 JOE SAKIC   \n",
       "                 ICE HOCKEY                         WAYNE GRETZKY   \n",
       "                 NASCAR                            DALE EARNHARDT   \n",
       "                 NBA                             SHAQUILLE O'NEAL   \n",
       "                 NFL                                  JOE MONTANA   \n",
       "                 TENNIS                              MONICA SELES   \n",
       "2000-2009        AMERICAN FOOTBALL                      TOM BRADY   \n",
       "                 AUTO RACING                   MICHAEL SCHUMACHER   \n",
       "                 AUTO RACING (NASCAR)                 JEFF GORDON   \n",
       "                 BASEBALL                          ALEX RODRIGUEZ   \n",
       "                 BASKETBALL                      SHAQUILLE O'NEAL   \n",
       "                 BOXING                          OSCAR DE LA HOYA   \n",
       "                 CYCLING                          LANCE ARMSTRONG   \n",
       "                 F1 MOTORSPORTS                MICHAEL SCHUMACHER   \n",
       "                 F1 RACING                     MICHAEL SCHUMACHER   \n",
       "                 GOLF                                 TIGER WOODS   \n",
       "                 MOTORCYCLE GP                    VALENTINO ROSSI   \n",
       "                 NASCAR                        DALE EARNHARDT JR.   \n",
       "                 SOCCER                                RONALDINHO   \n",
       "                 TENNIS                             ROGER FEDERER   \n",
       "2010-2019        AMERICAN FOOTBALL                  TERRELL SUGGS   \n",
       "                 AUTO RACING                       LEWIS HAMILTON   \n",
       "                 BASEBALL                          ALEX RODRIGUEZ   \n",
       "                 BASKETBALL                         STEPHEN CURRY   \n",
       "                 BOXING                            MANNY PACQUIAO   \n",
       "                 F1 RACING                     MICHAEL SCHUMACHER   \n",
       "                 GOLF                                 TIGER WOODS   \n",
       "                 MMA                               CONOR MCGREGOR   \n",
       "                 SOCCER                                    NEYMAR   \n",
       "                 TENNIS                             ROGER FEDERER   \n",
       "2020-2029        AMERICAN FOOTBALL                   KIRK COUSINS   \n",
       "                 BASKETBALL                         STEPHEN CURRY   \n",
       "                 GOLF                                 TIGER WOODS   \n",
       "                 SOCCER                                    NEYMAR   \n",
       "                 TENNIS                             ROGER FEDERER   \n",
       "\n",
       "                                               earnings ($ million)  \n",
       "Intervals.Decade Sport                                               \n",
       "1990-1999        AMERICAN FOOTBALL / BASEBALL                  22.5  \n",
       "                 AUTO RACING                                   64.0  \n",
       "                 BASEBALL                                      17.2  \n",
       "                 BASKETBALL                                   409.8  \n",
       "                 BOXING                                       235.1  \n",
       "                 F1 MOTORSPORTS                               106.0  \n",
       "                 GOLF                                          99.9  \n",
       "                 HOCKEY                                        17.9  \n",
       "                 ICE HOCKEY                                    29.8  \n",
       "                 NASCAR                                        43.2  \n",
       "                 NBA                                           15.2  \n",
       "                 NFL                                           21.0  \n",
       "                 TENNIS                                        53.6  \n",
       "2000-2009        AMERICAN FOOTBALL                             42.0  \n",
       "                 AUTO RACING                                   59.0  \n",
       "                 AUTO RACING (NASCAR)                          24.5  \n",
       "                 BASEBALL                                      81.2  \n",
       "                 BASKETBALL                                   329.0  \n",
       "                 BOXING                                       134.0  \n",
       "                 CYCLING                                       28.0  \n",
       "                 F1 MOTORSPORTS                               142.0  \n",
       "                 F1 RACING                                    234.0  \n",
       "                 GOLF                                         782.3  \n",
       "                 MOTORCYCLE GP                                128.0  \n",
       "                 NASCAR                                        34.0  \n",
       "                 SOCCER                                       185.5  \n",
       "                 TENNIS                                        52.2  \n",
       "2010-2019        AMERICAN FOOTBALL                            138.3  \n",
       "                 AUTO RACING                                   46.0  \n",
       "                 BASEBALL                                      35.0  \n",
       "                 BASKETBALL                                   678.6  \n",
       "                 BOXING                                       840.0  \n",
       "                 F1 RACING                                     34.0  \n",
       "                 GOLF                                         429.3  \n",
       "                 MMA                                           99.0  \n",
       "                 SOCCER                                       682.1  \n",
       "                 TENNIS                                       639.8  \n",
       "2020-2029        AMERICAN FOOTBALL                             60.5  \n",
       "                 BASKETBALL                                    88.2  \n",
       "                 GOLF                                          62.3  \n",
       "                 SOCCER                                       105.0  \n",
       "                 TENNIS                                       106.3  "
      ]
     },
     "execution_count": 160,
     "metadata": {},
     "output_type": "execute_result"
    }
   ],
   "source": [
    "mas_ganancias=mas_ganancias[['Intervals.Decade', 'Sport','Name','earnings ($ million)']].groupby(['Intervals.Decade', 'Sport', 'Name']).sum().reset_index()\n",
    "mayor_ganancia=mas_ganancias.groupby(['Intervals.Decade', 'Sport']).max()\n",
    "mayor_ganancia"
   ]
  },
  {
   "cell_type": "markdown",
   "metadata": {},
   "source": [
    "## Ganancia total por cada deporte por cada año"
   ]
  },
  {
   "cell_type": "code",
   "execution_count": 162,
   "metadata": {},
   "outputs": [
    {
     "data": {
      "text/html": [
       "<div>\n",
       "<style scoped>\n",
       "    .dataframe tbody tr th:only-of-type {\n",
       "        vertical-align: middle;\n",
       "    }\n",
       "\n",
       "    .dataframe tbody tr th {\n",
       "        vertical-align: top;\n",
       "    }\n",
       "\n",
       "    .dataframe thead th {\n",
       "        text-align: right;\n",
       "    }\n",
       "</style>\n",
       "<table border=\"1\" class=\"dataframe\">\n",
       "  <thead>\n",
       "    <tr style=\"text-align: right;\">\n",
       "      <th></th>\n",
       "      <th></th>\n",
       "      <th>Ganancia total en millones</th>\n",
       "    </tr>\n",
       "    <tr>\n",
       "      <th>Year</th>\n",
       "      <th>Sport</th>\n",
       "      <th></th>\n",
       "    </tr>\n",
       "  </thead>\n",
       "  <tbody>\n",
       "    <tr>\n",
       "      <th rowspan=\"4\" valign=\"top\">1990</th>\n",
       "      <th>AUTO RACING</th>\n",
       "      <td>19.0</td>\n",
       "    </tr>\n",
       "    <tr>\n",
       "      <th>BASKETBALL</th>\n",
       "      <td>8.1</td>\n",
       "    </tr>\n",
       "    <tr>\n",
       "      <th>BOXING</th>\n",
       "      <td>75.7</td>\n",
       "    </tr>\n",
       "    <tr>\n",
       "      <th>GOLF</th>\n",
       "      <td>25.2</td>\n",
       "    </tr>\n",
       "    <tr>\n",
       "      <th>1991</th>\n",
       "      <th>AUTO RACING</th>\n",
       "      <td>33.0</td>\n",
       "    </tr>\n",
       "    <tr>\n",
       "      <th>...</th>\n",
       "      <th>...</th>\n",
       "      <td>...</td>\n",
       "    </tr>\n",
       "    <tr>\n",
       "      <th rowspan=\"5\" valign=\"top\">2020</th>\n",
       "      <th>AMERICAN FOOTBALL</th>\n",
       "      <td>119.6</td>\n",
       "    </tr>\n",
       "    <tr>\n",
       "      <th>BASKETBALL</th>\n",
       "      <td>226.5</td>\n",
       "    </tr>\n",
       "    <tr>\n",
       "      <th>GOLF</th>\n",
       "      <td>62.3</td>\n",
       "    </tr>\n",
       "    <tr>\n",
       "      <th>SOCCER</th>\n",
       "      <td>304.5</td>\n",
       "    </tr>\n",
       "    <tr>\n",
       "      <th>TENNIS</th>\n",
       "      <td>106.3</td>\n",
       "    </tr>\n",
       "  </tbody>\n",
       "</table>\n",
       "<p>176 rows × 1 columns</p>\n",
       "</div>"
      ],
      "text/plain": [
       "                        Ganancia total en millones\n",
       "Year Sport                                        \n",
       "1990 AUTO RACING                              19.0\n",
       "     BASKETBALL                                8.1\n",
       "     BOXING                                   75.7\n",
       "     GOLF                                     25.2\n",
       "1991 AUTO RACING                              33.0\n",
       "...                                            ...\n",
       "2020 AMERICAN FOOTBALL                       119.6\n",
       "     BASKETBALL                              226.5\n",
       "     GOLF                                     62.3\n",
       "     SOCCER                                  304.5\n",
       "     TENNIS                                  106.3\n",
       "\n",
       "[176 rows x 1 columns]"
      ]
     },
     "execution_count": 162,
     "metadata": {},
     "output_type": "execute_result"
    }
   ],
   "source": [
    "ganancia_total= df_dataset2\n",
    "\n",
    "ganancia_total= ganancia_total[['Year', 'Sport','earnings ($ million)']].groupby(['Year','Sport']).sum()\n",
    "ganancia_total.columns = ['Ganancia total en millones']\n",
    "ganancia_total"
   ]
  }
 ],
 "metadata": {
  "kernelspec": {
   "display_name": "Python 3.10.5 64-bit",
   "language": "python",
   "name": "python3"
  },
  "language_info": {
   "codemirror_mode": {
    "name": "ipython",
    "version": 3
   },
   "file_extension": ".py",
   "mimetype": "text/x-python",
   "name": "python",
   "nbconvert_exporter": "python",
   "pygments_lexer": "ipython3",
   "version": "3.10.5"
  },
  "orig_nbformat": 4,
  "vscode": {
   "interpreter": {
    "hash": "26de051ba29f2982a8de78e945f0abaf191376122a1563185a90213a26c5da77"
   }
  }
 },
 "nbformat": 4,
 "nbformat_minor": 2
}
